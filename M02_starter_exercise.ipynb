{
 "cells": [
  {
   "cell_type": "markdown",
   "metadata": {},
   "source": [
    "# [STARTER] Exercise - Output structured Agent responses\n",
    "\n",
    "In this exercise, you'll learn how to enhance your AI agent to provide structured outputs using Pydantic models. This will help ensure the agent's responses are consistent, validated, and easily usable in downstream applications."
   ]
  },
  {
   "cell_type": "markdown",
   "metadata": {},
   "source": [
    "## Challenge\n",
    "\n",
    "You have an existing Agent class that can:\n",
    "- Process user messages\n",
    "- Use tools when needed\n",
    "- Generate responses\n",
    "\n",
    "Now you need to enhance it to:\n",
    "- Define structured output formats using Pydantic\n",
    "- Parse and validate responses\n",
    "- Return data in a consistent JSON format\n",
    "\n"
   ]
  },
  {
   "cell_type": "markdown",
   "metadata": {},
   "source": [
    "## Setup\n",
    "First, let's import the necessary libraries:"
   ]
  },
  {
   "cell_type": "code",
   "execution_count": 4,
   "metadata": {},
   "outputs": [],
   "source": [
    "from typing import List, Any, Annotated\n",
    "from pydantic import BaseModel, Field\n",
    "from dotenv import load_dotenv\n",
    "import json\n",
    "import os\n",
    "\n",
    "from lib.messages import UserMessage, SystemMessage, ToolMessage\n",
    "from lib.tooling import tool\n",
    "from lib.llm import LLM\n",
    "from lib.parsers import PydanticOutputParser, JsonOutputParser"
   ]
  },
  {
   "cell_type": "markdown",
   "metadata": {},
   "source": [
    "## Defining Structured Output Models\n",
    "\n",
    "Let's create a Pydantic model for a meeting summary with action items:\n"
   ]
  },
  {
   "cell_type": "code",
   "execution_count": 37,
   "metadata": {},
   "outputs": [],
   "source": [
    "# TODO 1: Create the ActionItem Pydantic model\n",
    "# Hint: Include fields for task, assignee, and due_date with appropriate annotations and descriptions\n",
    "class ActionItem(BaseModel):\n",
    "    \"\"\"A Pydantic model representing a calendar event.\"\"\"\n",
    "    task: Annotated[str, Field(description=\"Name of the task. Defaults to ''\", default=None)]\n",
    "    assignee: Annotated[str, Field(description=\"Name of the assignee. Defaults to ''\", default=None)]\n",
    "    due_date: Annotated[str, Field(description=\"Date of the event. Defaults to ''\", default=None)]\n"
   ]
  },
  {
   "cell_type": "code",
   "execution_count": 38,
   "metadata": {},
   "outputs": [],
   "source": [
    "# TODO 2: Create the MeetingSummary Pydantic model\n",
    "# Hint: Include fields for title, date, participants, key_points, and action_items\n",
    "class MeetingSummary(BaseModel):\n",
    "    \"\"\"A Pydantic model representing a calendar event.\"\"\"\n",
    "    title: Annotated[str, Field(description=\"Title of the meeting. Defaults to ''\", default=None)]\n",
    "    date: Annotated[str, Field(description=\"Date of the meeting. Defaults to ''\", default=None)]\n",
    "    participants: Annotated[list[str], Field(description=\"List of meeting participants, defaults to ''\", default=None)]\n",
    "    key_points: Annotated[list[str], Field(description=\"list of key points of meeting, defaults to ''\", default=None)]\n",
    "    action_items: Annotated[list[ActionItem], Field(description=\"List of action items from meeting, defaults to ''\", default=None)]"
   ]
  },
  {
   "cell_type": "markdown",
   "metadata": {},
   "source": [
    "## Enhanced Agent Class\n",
    "\n",
    "Now let's create an enhanced version of our Agent class that supports structured outputs:\n"
   ]
  },
  {
   "cell_type": "code",
   "execution_count": 39,
   "metadata": {},
   "outputs": [],
   "source": [
    "class StructuredAgent:\n",
    "    \"\"\"An AI Agent that provides structured outputs\"\"\"\n",
    "    \n",
    "    def __init__(\n",
    "        self,\n",
    "        role: str = \"Meeting Assistant\",\n",
    "        instructions: str = \"Help summarize meetings and track action items\",\n",
    "        model: str = \"gpt-4o-mini\",\n",
    "        temperature: float = 0.0,\n",
    "        tools: List[Any] = None,\n",
    "        output_model: BaseModel = None\n",
    "    ):\n",
    "        \"\"\"Initialize the agent with its configuration\n",
    "        \n",
    "        Args:\n",
    "            role: The agent's role/persona\n",
    "            instructions: Basic instructions for the agent\n",
    "            model: The LLM model to use\n",
    "            temperature: Creativity parameter (0.0 = more deterministic)\n",
    "            tools: List of tools the agent can use\n",
    "            output_model: Pydantic model for structured output\n",
    "        \"\"\"\n",
    "        # TODO 3: Initialize the agent\n",
    "        # Hint:\n",
    "        # - Store agent settings (role, instructions, output_model, etc.)\n",
    "        self.role = role\n",
    "        self.instructions = instructions\n",
    "        self.model = model\n",
    "        self.temperatur = temperature\n",
    "        self.tools = tools\n",
    "        self.output_model = output_model\n",
    "        # - Load environment variables\n",
    "        load_dotenv()\n",
    "        self.api_key = os.getenv(\"OPENAI_API_KEY\")\n",
    "        # - Create an LLM instance with the provided configuration\n",
    "        self.llm = LLM(model, temperature, tools, api_key=self.api_key)\n",
    "\n",
    "\n",
    "    def invoke(self, user_message: str) -> dict:\n",
    "        \"\"\"Process a user message and return a structured response\n",
    "        \n",
    "        Args:\n",
    "            user_message: The user's input message\n",
    "            \n",
    "        Returns:\n",
    "            A dictionary containing the structured response\n",
    "        \"\"\"\n",
    "        # TODO 4: Implement the invoke method\n",
    "        # Hint:\n",
    "        # - Create messages list with SystemMessage\n",
    "        messages = [SystemMessage(content=f\"You are a {self.role}. {self.instructions}\")]\n",
    "        messages.append(UserMessage(content=user_message))\n",
    "        # - Add UserMessage\n",
    "        # - Get AI response with structured format if output_model exists\n",
    "        if self.output_model:\n",
    "            response = self.llm.invoke(messages, self.output_model)\n",
    "            parser = JsonOutputParser()\n",
    "            result = parser.parse(response)\n",
    "            return result\n",
    "        # - Parse and return the response\n"
   ]
  },
  {
   "cell_type": "markdown",
   "metadata": {},
   "source": [
    "## Testing the Structured Agent\n",
    "\n",
    "Let's test our enhanced agent with a meeting summary example:\n"
   ]
  },
  {
   "cell_type": "code",
   "execution_count": 40,
   "metadata": {},
   "outputs": [],
   "source": [
    "# Create an agent instance with the MeetingSummary model\n",
    "meeting_agent = StructuredAgent(\n",
    "    role=\"Meeting Assistant\",\n",
    "    instructions=\"Summarize meetings and track action items in a structured format\",\n",
    "    output_model=MeetingSummary\n",
    ")"
   ]
  },
  {
   "cell_type": "code",
   "execution_count": 41,
   "metadata": {},
   "outputs": [],
   "source": [
    "meeting_transcript = \"\"\"\n",
    "Project Planning Meeting - March 15, 2024\n",
    "\n",
    "Attendees: John, Sarah, Mike\n",
    "\n",
    "Discussion:\n",
    "- Reviewed Q1 project timeline\n",
    "- Discussed resource allocation\n",
    "- Identified potential risks\n",
    "\n",
    "Next steps:\n",
    "1. John will update the project plan by next Friday\n",
    "2. Sarah needs to coordinate with the design team by Wednesday\n",
    "3. Mike will prepare the risk assessment document by end of month\n",
    "\"\"\""
   ]
  },
  {
   "cell_type": "code",
   "execution_count": 42,
   "metadata": {},
   "outputs": [
    {
     "name": "stdout",
     "output_type": "stream",
     "text": [
      "{\n",
      "  \"title\": \"Project Planning Meeting\",\n",
      "  \"date\": \"March 15, 2024\",\n",
      "  \"participants\": [\n",
      "    \"John\",\n",
      "    \"Sarah\",\n",
      "    \"Mike\"\n",
      "  ],\n",
      "  \"key_points\": [\n",
      "    \"Reviewed Q1 project timeline\",\n",
      "    \"Discussed resource allocation\",\n",
      "    \"Identified potential risks\"\n",
      "  ],\n",
      "  \"action_items\": [\n",
      "    {\n",
      "      \"task\": \"Update the project plan\",\n",
      "      \"assignee\": \"John\",\n",
      "      \"due_date\": \"March 22, 2024\"\n",
      "    },\n",
      "    {\n",
      "      \"task\": \"Coordinate with the design team\",\n",
      "      \"assignee\": \"Sarah\",\n",
      "      \"due_date\": \"March 20, 2024\"\n",
      "    },\n",
      "    {\n",
      "      \"task\": \"Prepare the risk assessment document\",\n",
      "      \"assignee\": \"Mike\",\n",
      "      \"due_date\": \"March 31, 2024\"\n",
      "    }\n",
      "  ]\n",
      "}\n"
     ]
    }
   ],
   "source": [
    "summary = meeting_agent.invoke(meeting_transcript)\n",
    "print(json.dumps(summary, indent=2))"
   ]
  },
  {
   "cell_type": "markdown",
   "metadata": {},
   "source": [
    "## Validating the Output\n",
    "\n",
    "Let's verify that our output matches our Pydantic model structure:\n"
   ]
  },
  {
   "cell_type": "code",
   "execution_count": 43,
   "metadata": {},
   "outputs": [],
   "source": [
    "# Create a MeetingSummary instance from the output\n",
    "validated_summary = MeetingSummary(**summary)"
   ]
  },
  {
   "cell_type": "code",
   "execution_count": 44,
   "metadata": {},
   "outputs": [
    {
     "name": "stdout",
     "output_type": "stream",
     "text": [
      "Meeting Title: Project Planning Meeting\n",
      "\n",
      "Participants:\n",
      "- John\n",
      "- Sarah\n",
      "- Mike\n",
      "\n",
      "Action Items:\n",
      "- Update the project plan (Assigned to: John, Due: March 22, 2024)\n",
      "- Coordinate with the design team (Assigned to: Sarah, Due: March 20, 2024)\n",
      "- Prepare the risk assessment document (Assigned to: Mike, Due: March 31, 2024)\n"
     ]
    }
   ],
   "source": [
    "# Access structured data\n",
    "print(\"Meeting Title:\", validated_summary.title)\n",
    "print(\"\\nParticipants:\")\n",
    "for participant in validated_summary.participants:\n",
    "    print(f\"- {participant}\")\n",
    "\n",
    "print(\"\\nAction Items:\")\n",
    "for item in validated_summary.action_items:\n",
    "    print(f\"- {item.task} (Assigned to: {item.assignee}, Due: {item.due_date})\")"
   ]
  },
  {
   "cell_type": "code",
   "execution_count": null,
   "metadata": {},
   "outputs": [],
   "source": []
  }
 ],
 "metadata": {
  "kernelspec": {
   "display_name": ".venv",
   "language": "python",
   "name": "python3"
  },
  "language_info": {
   "codemirror_mode": {
    "name": "ipython",
    "version": 3
   },
   "file_extension": ".py",
   "mimetype": "text/x-python",
   "name": "python",
   "nbconvert_exporter": "python",
   "pygments_lexer": "ipython3",
   "version": "3.11.7"
  }
 },
 "nbformat": 4,
 "nbformat_minor": 2
}
