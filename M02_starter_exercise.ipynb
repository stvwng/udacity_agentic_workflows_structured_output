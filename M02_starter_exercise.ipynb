{
 "cells": [
  {
   "cell_type": "markdown",
   "metadata": {},
   "source": [
    "# [STARTER] Exercise - Output structured Agent responses\n",
    "\n",
    "In this exercise, you'll learn how to enhance your AI agent to provide structured outputs using Pydantic models. This will help ensure the agent's responses are consistent, validated, and easily usable in downstream applications."
   ]
  },
  {
   "cell_type": "markdown",
   "metadata": {},
   "source": [
    "## Challenge\n",
    "\n",
    "You have an existing Agent class that can:\n",
    "- Process user messages\n",
    "- Use tools when needed\n",
    "- Generate responses\n",
    "\n",
    "Now you need to enhance it to:\n",
    "- Define structured output formats using Pydantic\n",
    "- Parse and validate responses\n",
    "- Return data in a consistent JSON format\n",
    "\n"
   ]
  },
  {
   "cell_type": "markdown",
   "metadata": {},
   "source": [
    "## Setup\n",
    "First, let's import the necessary libraries:"
   ]
  },
  {
   "cell_type": "code",
   "execution_count": null,
   "metadata": {},
   "outputs": [],
   "source": [
    "from typing import List, Any, Annotated\n",
    "from pydantic import BaseModel, Field\n",
    "from dotenv import load_dotenv\n",
    "import json\n",
    "\n",
    "from lib.messages import UserMessage, SystemMessage, ToolMessage\n",
    "from lib.tooling import tool\n",
    "from lib.llm import LLM\n",
    "from lib.parsers import PydanticOutputParser, JsonOutputParser"
   ]
  },
  {
   "cell_type": "markdown",
   "metadata": {},
   "source": [
    "## Defining Structured Output Models\n",
    "\n",
    "Let's create a Pydantic model for a meeting summary with action items:\n"
   ]
  },
  {
   "cell_type": "code",
   "execution_count": null,
   "metadata": {},
   "outputs": [],
   "source": [
    "# TODO 1: Create the ActionItem Pydantic model\n",
    "# Hint: Include fields for task, assignee, and due_date with appropriate annotations and descriptions"
   ]
  },
  {
   "cell_type": "code",
   "execution_count": null,
   "metadata": {},
   "outputs": [],
   "source": [
    "# TODO 2: Create the MeetingSummary Pydantic model\n",
    "# Hint: Include fields for title, date, participants, key_points, and action_items"
   ]
  },
  {
   "cell_type": "markdown",
   "metadata": {},
   "source": [
    "## Enhanced Agent Class\n",
    "\n",
    "Now let's create an enhanced version of our Agent class that supports structured outputs:\n"
   ]
  },
  {
   "cell_type": "code",
   "execution_count": null,
   "metadata": {},
   "outputs": [],
   "source": [
    "class StructuredAgent:\n",
    "    \"\"\"An AI Agent that provides structured outputs\"\"\"\n",
    "    \n",
    "    def __init__(\n",
    "        self,\n",
    "        role: str = \"Meeting Assistant\",\n",
    "        instructions: str = \"Help summarize meetings and track action items\",\n",
    "        model: str = \"gpt-4o-mini\",\n",
    "        temperature: float = 0.0,\n",
    "        tools: List[Any] = None,\n",
    "        output_model: BaseModel = None\n",
    "    ):\n",
    "        \"\"\"Initialize the agent with its configuration\n",
    "        \n",
    "        Args:\n",
    "            role: The agent's role/persona\n",
    "            instructions: Basic instructions for the agent\n",
    "            model: The LLM model to use\n",
    "            temperature: Creativity parameter (0.0 = more deterministic)\n",
    "            tools: List of tools the agent can use\n",
    "            output_model: Pydantic model for structured output\n",
    "        \"\"\"\n",
    "        # TODO 3: Initialize the agent\n",
    "        # Hint:\n",
    "        # - Store agent settings (role, instructions, output_model, etc.)\n",
    "        # - Load environment variables\n",
    "        # - Create an LLM instance with the provided configuration\n",
    "\n",
    "\n",
    "    def invoke(self, user_message: str) -> dict:\n",
    "        \"\"\"Process a user message and return a structured response\n",
    "        \n",
    "        Args:\n",
    "            user_message: The user's input message\n",
    "            \n",
    "        Returns:\n",
    "            A dictionary containing the structured response\n",
    "        \"\"\"\n",
    "        # TODO 4: Implement the invoke method\n",
    "        # Hint:\n",
    "        # - Create messages list with SystemMessage\n",
    "        # - Add UserMessage\n",
    "        # - Get AI response with structured format if output_model exists\n",
    "        # - Parse and return the response\n"
   ]
  },
  {
   "cell_type": "markdown",
   "metadata": {},
   "source": [
    "## Testing the Structured Agent\n",
    "\n",
    "Let's test our enhanced agent with a meeting summary example:\n"
   ]
  },
  {
   "cell_type": "code",
   "execution_count": null,
   "metadata": {},
   "outputs": [],
   "source": [
    "# Create an agent instance with the MeetingSummary model\n",
    "meeting_agent = StructuredAgent(\n",
    "    role=\"Meeting Assistant\",\n",
    "    instructions=\"Summarize meetings and track action items in a structured format\",\n",
    "    output_model=MeetingSummary\n",
    ")"
   ]
  },
  {
   "cell_type": "code",
   "execution_count": null,
   "metadata": {},
   "outputs": [],
   "source": [
    "meeting_transcript = \"\"\"\n",
    "Project Planning Meeting - March 15, 2024\n",
    "\n",
    "Attendees: John, Sarah, Mike\n",
    "\n",
    "Discussion:\n",
    "- Reviewed Q1 project timeline\n",
    "- Discussed resource allocation\n",
    "- Identified potential risks\n",
    "\n",
    "Next steps:\n",
    "1. John will update the project plan by next Friday\n",
    "2. Sarah needs to coordinate with the design team by Wednesday\n",
    "3. Mike will prepare the risk assessment document by end of month\n",
    "\"\"\""
   ]
  },
  {
   "cell_type": "code",
   "execution_count": null,
   "metadata": {},
   "outputs": [],
   "source": [
    "summary = meeting_agent.invoke(meeting_transcript)\n",
    "print(json.dumps(summary, indent=2))"
   ]
  },
  {
   "cell_type": "markdown",
   "metadata": {},
   "source": [
    "## Validating the Output\n",
    "\n",
    "Let's verify that our output matches our Pydantic model structure:\n"
   ]
  },
  {
   "cell_type": "code",
   "execution_count": null,
   "metadata": {},
   "outputs": [],
   "source": [
    "# Create a MeetingSummary instance from the output\n",
    "validated_summary = MeetingSummary(**summary)"
   ]
  },
  {
   "cell_type": "code",
   "execution_count": null,
   "metadata": {},
   "outputs": [],
   "source": [
    "# Access structured data\n",
    "print(\"Meeting Title:\", validated_summary.title)\n",
    "print(\"\\nParticipants:\")\n",
    "for participant in validated_summary.participants:\n",
    "    print(f\"- {participant}\")\n",
    "\n",
    "print(\"\\nAction Items:\")\n",
    "for item in validated_summary.action_items:\n",
    "    print(f\"- {item.task} (Assigned to: {item.assignee}, Due: {item.due_date})\")"
   ]
  },
  {
   "cell_type": "code",
   "execution_count": null,
   "metadata": {},
   "outputs": [],
   "source": []
  }
 ],
 "metadata": {
  "kernelspec": {
   "display_name": ".venv",
   "language": "python",
   "name": "python3"
  },
  "language_info": {
   "codemirror_mode": {
    "name": "ipython",
    "version": 3
   },
   "file_extension": ".py",
   "mimetype": "text/x-python",
   "name": "python",
   "nbconvert_exporter": "python",
   "pygments_lexer": "ipython3",
   "version": "3.11.10"
  }
 },
 "nbformat": 4,
 "nbformat_minor": 2
}
