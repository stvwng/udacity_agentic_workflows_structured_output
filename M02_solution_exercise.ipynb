{
 "cells": [
  {
   "cell_type": "markdown",
   "metadata": {},
   "source": [
    "# [SOLUTION] Exercise - Output structured Agent responses\n",
    "\n",
    "In this exercise, you'll learn how to enhance your AI agent to provide structured outputs using Pydantic models. This will help ensure the agent's responses are consistent, validated, and easily usable in downstream applications."
   ]
  },
  {
   "cell_type": "markdown",
   "metadata": {},
   "source": [
    "## Challenge\n",
    "\n",
    "You have an existing Agent class that can:\n",
    "- Process user messages\n",
    "- Use tools when needed\n",
    "- Generate responses\n",
    "\n",
    "Now you need to enhance it to:\n",
    "- Define structured output formats using Pydantic\n",
    "- Parse and validate responses\n",
    "- Return data in a consistent JSON format\n",
    "\n"
   ]
  },
  {
   "cell_type": "markdown",
   "metadata": {},
   "source": [
    "## Setup\n",
    "First, let's import the necessary libraries:"
   ]
  },
  {
   "cell_type": "code",
   "execution_count": 1,
   "metadata": {},
   "outputs": [],
   "source": [
    "from typing import List, Any, Annotated\n",
    "from pydantic import BaseModel, Field\n",
    "from dotenv import load_dotenv\n",
    "import json\n",
    "\n",
    "from lib.messages import UserMessage, SystemMessage, ToolMessage\n",
    "from lib.tooling import tool\n",
    "from lib.llm import LLM\n",
    "from lib.parsers import PydanticOutputParser, JsonOutputParser"
   ]
  },
  {
   "cell_type": "markdown",
   "metadata": {},
   "source": [
    "## Defining Structured Output Models\n",
    "\n",
    "Let's create a Pydantic model for a meeting summary with action items:\n"
   ]
  },
  {
   "cell_type": "code",
   "execution_count": 2,
   "metadata": {},
   "outputs": [],
   "source": [
    "class ActionItem(BaseModel):\n",
    "    \"\"\"Represents a single action item from a meeting\"\"\"\n",
    "    task: Annotated[str, Field(description=\"The task to be completed\")]\n",
    "    assignee: Annotated[str, Field(description=\"Person responsible for the task\")]\n",
    "    due_date: Annotated[str, Field(description=\"When the task should be completed\")]"
   ]
  },
  {
   "cell_type": "code",
   "execution_count": null,
   "metadata": {},
   "outputs": [],
   "source": [
    "class MeetingSummary(BaseModel):\n",
    "    \"\"\"A structured summary of a meeting\"\"\"\n",
    "    title: Annotated[str, Field(description=\"Title of the meeting\")]\n",
    "    date: Annotated[str, Field(description=\"Date when the meeting occurred\")]\n",
    "    participants: Annotated[List[str], Field(description=\"List of meeting attendees\")]\n",
    "    key_points: Annotated[List[str], Field(description=\"Main points discussed in the meeting\")]\n",
    "    action_items: Annotated[List[ActionItem], Field(description=\"List of action items from the meeting\")]"
   ]
  },
  {
   "cell_type": "markdown",
   "metadata": {},
   "source": [
    "## Enhanced Agent Class\n",
    "\n",
    "Now let's create an enhanced version of our Agent class that supports structured outputs:\n"
   ]
  },
  {
   "cell_type": "code",
   "execution_count": 8,
   "metadata": {},
   "outputs": [],
   "source": [
    "class StructuredAgent:\n",
    "    \"\"\"An AI Agent that provides structured outputs\"\"\"\n",
    "    \n",
    "    def __init__(\n",
    "        self,\n",
    "        role: str = \"Meeting Assistant\",\n",
    "        instructions: str = \"Help summarize meetings and track action items\",\n",
    "        model: str = \"gpt-4o-mini\",\n",
    "        temperature: float = 0.0,\n",
    "        tools: List[Any] = None,\n",
    "        output_model: BaseModel = None\n",
    "    ):\n",
    "        \"\"\"Initialize the agent with its configuration\n",
    "        \n",
    "        Args:\n",
    "            role: The agent's role/persona\n",
    "            instructions: Basic instructions for the agent\n",
    "            model: The LLM model to use\n",
    "            temperature: Creativity parameter (0.0 = more deterministic)\n",
    "            tools: List of tools the agent can use\n",
    "            output_model: Pydantic model for structured output\n",
    "        \"\"\"\n",
    "        self.model = model\n",
    "        self.role = role\n",
    "        self.instructions = instructions\n",
    "        self.tools = tools\n",
    "        self.output_model = output_model\n",
    "\n",
    "        # Load environment variables\n",
    "        load_dotenv()\n",
    "        \n",
    "        # Initialize the LLM\n",
    "        self.llm = LLM(\n",
    "            model=model,\n",
    "            temperature=temperature,\n",
    "            tools=tools,\n",
    "        )\n",
    "\n",
    "    def invoke(self, user_message: str) -> dict:\n",
    "        \"\"\"Process a user message and return a structured response\n",
    "        \n",
    "        Args:\n",
    "            user_message: The user's input message\n",
    "            \n",
    "        Returns:\n",
    "            A dictionary containing the structured response\n",
    "        \"\"\"\n",
    "        messages = [\n",
    "            SystemMessage(\n",
    "                content=(\n",
    "                    f\"You're an AI Agent and your role is {self.role}. \"  \n",
    "                    f\"Your instructions: {self.instructions}\"\n",
    "                )\n",
    "            )\n",
    "        ]\n",
    "        # Add user message\n",
    "        messages.append(UserMessage(content=user_message))\n",
    "        \n",
    "        # Get AI response with structured format\n",
    "        if self.output_model:\n",
    "            ai_message = self.llm.invoke(input=messages, response_format=self.output_model)\n",
    "            parser = JsonOutputParser()\n",
    "            return parser.parse(ai_message)\n",
    "        else:\n",
    "            # Handle unstructured response if no model specified\n",
    "            ai_message = self.llm.invoke(messages)\n",
    "            return {\"response\": ai_message.content}\n"
   ]
  },
  {
   "cell_type": "markdown",
   "metadata": {},
   "source": [
    "## Testing the Structured Agent\n",
    "\n",
    "Let's test our enhanced agent with a meeting summary example:\n"
   ]
  },
  {
   "cell_type": "code",
   "execution_count": 9,
   "metadata": {},
   "outputs": [],
   "source": [
    "# Create an agent instance with the MeetingSummary model\n",
    "meeting_agent = StructuredAgent(\n",
    "    role=\"Meeting Assistant\",\n",
    "    instructions=\"Summarize meetings and track action items in a structured format\",\n",
    "    output_model=MeetingSummary\n",
    ")"
   ]
  },
  {
   "cell_type": "code",
   "execution_count": 10,
   "metadata": {},
   "outputs": [],
   "source": [
    "meeting_transcript = \"\"\"\n",
    "Project Planning Meeting - March 15, 2024\n",
    "\n",
    "Attendees: John, Sarah, Mike\n",
    "\n",
    "Discussion:\n",
    "- Reviewed Q1 project timeline\n",
    "- Discussed resource allocation\n",
    "- Identified potential risks\n",
    "\n",
    "Next steps:\n",
    "1. John will update the project plan by next Friday\n",
    "2. Sarah needs to coordinate with the design team by Wednesday\n",
    "3. Mike will prepare the risk assessment document by end of month\n",
    "\"\"\""
   ]
  },
  {
   "cell_type": "code",
   "execution_count": 11,
   "metadata": {},
   "outputs": [
    {
     "name": "stdout",
     "output_type": "stream",
     "text": [
      "{\n",
      "  \"title\": \"Project Planning Meeting\",\n",
      "  \"date\": \"2024-03-15\",\n",
      "  \"participants\": [\n",
      "    \"John\",\n",
      "    \"Sarah\",\n",
      "    \"Mike\"\n",
      "  ],\n",
      "  \"key_points\": [\n",
      "    \"Reviewed Q1 project timeline\",\n",
      "    \"Discussed resource allocation\",\n",
      "    \"Identified potential risks\"\n",
      "  ],\n",
      "  \"action_items\": [\n",
      "    {\n",
      "      \"task\": \"Update the project plan\",\n",
      "      \"assignee\": \"John\",\n",
      "      \"due_date\": \"2024-03-22\"\n",
      "    },\n",
      "    {\n",
      "      \"task\": \"Coordinate with the design team\",\n",
      "      \"assignee\": \"Sarah\",\n",
      "      \"due_date\": \"2024-03-20\"\n",
      "    },\n",
      "    {\n",
      "      \"task\": \"Prepare the risk assessment document\",\n",
      "      \"assignee\": \"Mike\",\n",
      "      \"due_date\": \"2024-03-31\"\n",
      "    }\n",
      "  ]\n",
      "}\n"
     ]
    }
   ],
   "source": [
    "summary = meeting_agent.invoke(meeting_transcript)\n",
    "print(json.dumps(summary, indent=2))"
   ]
  },
  {
   "cell_type": "markdown",
   "metadata": {},
   "source": [
    "## Validating the Output\n",
    "\n",
    "Let's verify that our output matches our Pydantic model structure:\n"
   ]
  },
  {
   "cell_type": "code",
   "execution_count": 12,
   "metadata": {},
   "outputs": [],
   "source": [
    "# Create a MeetingSummary instance from the output\n",
    "validated_summary = MeetingSummary(**summary)"
   ]
  },
  {
   "cell_type": "code",
   "execution_count": 13,
   "metadata": {},
   "outputs": [
    {
     "name": "stdout",
     "output_type": "stream",
     "text": [
      "Meeting Title: Project Planning Meeting\n",
      "\n",
      "Participants:\n",
      "- John\n",
      "- Sarah\n",
      "- Mike\n",
      "\n",
      "Action Items:\n",
      "- Update the project plan (Assigned to: John, Due: 2024-03-22)\n",
      "- Coordinate with the design team (Assigned to: Sarah, Due: 2024-03-20)\n",
      "- Prepare the risk assessment document (Assigned to: Mike, Due: 2024-03-31)\n"
     ]
    }
   ],
   "source": [
    "# Access structured data\n",
    "print(\"Meeting Title:\", validated_summary.title)\n",
    "print(\"\\nParticipants:\")\n",
    "for participant in validated_summary.participants:\n",
    "    print(f\"- {participant}\")\n",
    "\n",
    "print(\"\\nAction Items:\")\n",
    "for item in validated_summary.action_items:\n",
    "    print(f\"- {item.task} (Assigned to: {item.assignee}, Due: {item.due_date})\")"
   ]
  },
  {
   "cell_type": "code",
   "execution_count": null,
   "metadata": {},
   "outputs": [],
   "source": []
  }
 ],
 "metadata": {
  "kernelspec": {
   "display_name": ".venv",
   "language": "python",
   "name": "python3"
  },
  "language_info": {
   "codemirror_mode": {
    "name": "ipython",
    "version": 3
   },
   "file_extension": ".py",
   "mimetype": "text/x-python",
   "name": "python",
   "nbconvert_exporter": "python",
   "pygments_lexer": "ipython3",
   "version": "3.11.10"
  }
 },
 "nbformat": 4,
 "nbformat_minor": 2
}
