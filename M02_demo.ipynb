{
 "cells": [
  {
   "cell_type": "markdown",
   "id": "aaa47220",
   "metadata": {},
   "source": [
    "# Structured Outputs\n",
    "This notebook demonstrates how to work with different output formats and parsers when working with Language Models (LLM).\n",
    "\n",
    "## What we'll learn:\n",
    "- Basic string output parsing\n",
    "- Working with tools and structured outputs\n",
    "- Using Pydantic models for type validation\n",
    "- Understanding different parser types and their use cases"
   ]
  },
  {
   "cell_type": "markdown",
   "id": "b491ba4c",
   "metadata": {},
   "source": [
    "### Setup"
   ]
  },
  {
   "cell_type": "code",
   "execution_count": 2,
   "id": "d62df066",
   "metadata": {},
   "outputs": [],
   "source": [
    "from typing import Annotated\n",
    "from pydantic import BaseModel, Field\n",
    "from dotenv import load_dotenv\n",
    "from lib.messages import UserMessage, SystemMessage\n",
    "from lib.tooling import tool\n",
    "from lib.llm import LLM\n",
    "from lib.parsers import (\n",
    "    StrOutputParser,\n",
    "    JsonOutputParser, \n",
    "    PydanticOutputParser, \n",
    "    ToolOutputParser,\n",
    ")"
   ]
  },
  {
   "cell_type": "code",
   "execution_count": 3,
   "id": "4071c8dd",
   "metadata": {},
   "outputs": [
    {
     "data": {
      "text/plain": [
       "True"
      ]
     },
     "execution_count": 3,
     "metadata": {},
     "output_type": "execute_result"
    }
   ],
   "source": [
    "load_dotenv()"
   ]
  },
  {
   "cell_type": "code",
   "execution_count": 4,
   "id": "0c14ad6c",
   "metadata": {},
   "outputs": [],
   "source": [
    "chat_model = LLM()"
   ]
  },
  {
   "cell_type": "markdown",
   "id": "b96a64db",
   "metadata": {},
   "source": [
    "## Basic String Output\n",
    "Before diving into more complex output formats, let's understand how to work with simple string outputs from our Language Model.\n",
    "This demonstrates the most basic form of parsing LLM responses."
   ]
  },
  {
   "cell_type": "code",
   "execution_count": 5,
   "id": "df1447cb",
   "metadata": {},
   "outputs": [],
   "source": [
    "messages = [\n",
    "    SystemMessage(content=\"Extract the event information.\"),\n",
    "    UserMessage(content=\"Alice and Bob are going to a science fair on Friday.\")\n",
    "]"
   ]
  },
  {
   "cell_type": "code",
   "execution_count": 6,
   "id": "2c1e17ef",
   "metadata": {},
   "outputs": [
    {
     "data": {
      "text/plain": [
       "AIMessage(content='Event: Science Fair  \\nParticipants: Alice and Bob  \\nDay: Friday', role='assistant', tool_calls=None)"
      ]
     },
     "execution_count": 6,
     "metadata": {},
     "output_type": "execute_result"
    }
   ],
   "source": [
    "ai_message = chat_model.invoke(messages)\n",
    "ai_message"
   ]
  },
  {
   "cell_type": "code",
   "execution_count": 7,
   "id": "6f1c3624",
   "metadata": {},
   "outputs": [
    {
     "name": "stdout",
     "output_type": "stream",
     "text": [
      "Event: Science Fair  \n",
      "Participants: Alice and Bob  \n",
      "Day: Friday\n"
     ]
    }
   ],
   "source": [
    "parser = StrOutputParser()\n",
    "print(parser.parse(ai_message))"
   ]
  },
  {
   "cell_type": "markdown",
   "id": "f4c265b2",
   "metadata": {},
   "source": [
    "## Working with Tools\n",
    "Now let's see how we can use tools to get structured outputs from our LLM.\n",
    "Tools help us enforce a specific format for the output and make it easier to process programmatically."
   ]
  },
  {
   "cell_type": "code",
   "execution_count": 8,
   "id": "e650cfd4",
   "metadata": {},
   "outputs": [],
   "source": [
    "@tool\n",
    "def calendar_event(name:str, date:str, participants:list[str]):\n",
    "    \"\"\"Identify name of the event, date when it will happen and all the participants\"\"\"\n",
    "    return {\n",
    "        \"name\": name,\n",
    "        \"date\": date,\n",
    "        \"participants\": participants\n",
    "    }"
   ]
  },
  {
   "cell_type": "code",
   "execution_count": 9,
   "id": "db706299",
   "metadata": {},
   "outputs": [],
   "source": [
    "messages = [\n",
    "    SystemMessage(content=\"Extract the event information.\"),\n",
    "    UserMessage(content=\"Alice and Bob are going to a science fair on Friday.\")\n",
    "]"
   ]
  },
  {
   "cell_type": "code",
   "execution_count": 10,
   "id": "700f35ef",
   "metadata": {},
   "outputs": [],
   "source": [
    "chat_model_with_tools = LLM(tools=[calendar_event])\n",
    "ai_message = chat_model_with_tools.invoke(messages)"
   ]
  },
  {
   "cell_type": "code",
   "execution_count": 11,
   "id": "52cffc0a",
   "metadata": {},
   "outputs": [
    {
     "data": {
      "text/plain": [
       "{'name': 'Science Fair', 'date': 'Friday', 'participants': ['Alice', 'Bob']}"
      ]
     },
     "execution_count": 11,
     "metadata": {},
     "output_type": "execute_result"
    }
   ],
   "source": [
    "# This gives us the variables identified by the LLM\n",
    "parser = ToolOutputParser()\n",
    "parser.parse(ai_message)[0][\"args\"]"
   ]
  },
  {
   "cell_type": "markdown",
   "id": "36d5c82d",
   "metadata": {},
   "source": [
    "## Using Pydantic Models\n",
    "Pydantic provides a powerful way to validate and structure our LLM outputs.\n",
    "This approach gives us type safety and data validation out of the box."
   ]
  },
  {
   "cell_type": "code",
   "execution_count": 12,
   "id": "6aa09ace",
   "metadata": {},
   "outputs": [],
   "source": [
    "class CalendarEvent(BaseModel):\n",
    "    \"\"\"A Pydantic model representing a calendar event.\n",
    "    \n",
    "    This model defines the structure for calendar events with validation:\n",
    "    - name: The name/title of the event\n",
    "    - date: When the event will occur\n",
    "    - participants: List of people attending the event\n",
    "    \"\"\"\n",
    "\n",
    "    name: Annotated[str, Field(description=\"Name/Title of the event. Defaults to ''\", default=None)]\n",
    "    date: Annotated[str, Field(description=\"Date of the event. Defaults to ''\", default=None)]\n",
    "    participants: Annotated[list[str], Field(description=\"Who will participate. Defaults to ''\", default=None)]"
   ]
  },
  {
   "cell_type": "code",
   "execution_count": 13,
   "id": "4d2928f1",
   "metadata": {},
   "outputs": [],
   "source": [
    "messages = [\n",
    "    SystemMessage(content=\"Extract the event information.\"),\n",
    "    UserMessage(content=\"Alice and Bob are going to a science fair on Friday.\")\n",
    "]"
   ]
  },
  {
   "cell_type": "code",
   "execution_count": 14,
   "id": "6239c2d9",
   "metadata": {},
   "outputs": [
    {
     "data": {
      "text/plain": [
       "AIMessage(content='{\"name\":\"Science Fair\",\"date\":\"Friday\",\"participants\":[\"Alice\",\"Bob\"]}', role='assistant', tool_calls=None)"
      ]
     },
     "execution_count": 14,
     "metadata": {},
     "output_type": "execute_result"
    }
   ],
   "source": [
    "ai_message = chat_model.invoke(input=messages, response_format=CalendarEvent)\n",
    "ai_message"
   ]
  },
  {
   "cell_type": "code",
   "execution_count": 15,
   "id": "30c92d3a",
   "metadata": {},
   "outputs": [
    {
     "data": {
      "text/plain": [
       "{'name': 'Science Fair', 'date': 'Friday', 'participants': ['Alice', 'Bob']}"
      ]
     },
     "execution_count": 15,
     "metadata": {},
     "output_type": "execute_result"
    }
   ],
   "source": [
    "# This gives us a structured dictionary we can work with programmatically\n",
    "parser = JsonOutputParser()\n",
    "parser.parse(ai_message)"
   ]
  },
  {
   "cell_type": "code",
   "execution_count": 16,
   "id": "d983e723",
   "metadata": {},
   "outputs": [
    {
     "data": {
      "text/plain": [
       "CalendarEvent(name='Science Fair', date='Friday', participants=['Alice', 'Bob'])"
      ]
     },
     "execution_count": 16,
     "metadata": {},
     "output_type": "execute_result"
    }
   ],
   "source": [
    "# This gives us a validated Pydantic model with type checking\n",
    "parser = PydanticOutputParser(model_class=CalendarEvent)\n",
    "event:CalendarEvent = parser.parse(ai_message)\n",
    "event"
   ]
  },
  {
   "cell_type": "code",
   "execution_count": 17,
   "id": "9e50611e",
   "metadata": {},
   "outputs": [
    {
     "data": {
      "text/plain": [
       "['Alice', 'Bob']"
      ]
     },
     "execution_count": 17,
     "metadata": {},
     "output_type": "execute_result"
    }
   ],
   "source": [
    "event.participants"
   ]
  },
  {
   "cell_type": "code",
   "execution_count": null,
   "id": "06c8c864",
   "metadata": {},
   "outputs": [],
   "source": []
  }
 ],
 "metadata": {
  "kernelspec": {
   "display_name": ".venv",
   "language": "python",
   "name": "python3"
  },
  "language_info": {
   "codemirror_mode": {
    "name": "ipython",
    "version": 3
   },
   "file_extension": ".py",
   "mimetype": "text/x-python",
   "name": "python",
   "nbconvert_exporter": "python",
   "pygments_lexer": "ipython3",
   "version": "3.11.7"
  }
 },
 "nbformat": 4,
 "nbformat_minor": 5
}
